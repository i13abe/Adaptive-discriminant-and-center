{
 "cells": [
  {
   "cell_type": "code",
   "execution_count": 1,
   "metadata": {},
   "outputs": [
    {
     "name": "stderr",
     "output_type": "stream",
     "text": [
      "f:\\university\\.venv\\lib\\site-packages\\tqdm\\auto.py:22: TqdmWarning: IProgress not found. Please update jupyter and ipywidgets. See https://ipywidgets.readthedocs.io/en/stable/user_install.html\n",
      "  from .autonotebook import tqdm as notebook_tqdm\n"
     ]
    }
   ],
   "source": [
    "import sys\n",
    "sys.path.append(\"../\")\n",
    "from utils.datasets import Datasets\n",
    "from utils.save_results import save_info, plot_graph,  plot_histogram\n",
    "from utils.networks import *\n",
    "from utils.utils import dict_to_oneVSothers\n",
    "\n",
    "from utils.adaptive_discriminantloss import AdaptiveDiscriminantLoss\n",
    "from utils.classifier_discriminantloss import ClassifierDiscriminantLoss\n",
    "\n",
    "import torch\n",
    "import torchvision\n",
    "import torchvision.transforms as transforms\n",
    "import torch.nn as nn\n",
    "import torch.optim as optim\n",
    "\n",
    "import numpy as np"
   ]
  },
  {
   "cell_type": "code",
   "execution_count": 2,
   "metadata": {},
   "outputs": [],
   "source": [
    "SEED = 1\n",
    "SEED = 1\n",
    "if torch.cuda.is_available():\n",
    "    device = torch.device(\"cuda:0\")\n",
    "else:\n",
    "    device = torch.device(\"cpu\")\n",
    "\n",
    "#Dataset config\n",
    "DATASET = 'MNIST'\n",
    "DATASET_DIR = './dataset'\n",
    "BATCH_SIZE = 100\n",
    "NUM_WORKERS = 2\n",
    "\n",
    "#Optimizer config\n",
    "WEIGHT_DECAY = 0.001\n",
    "LEARNING_RATE = 0.01\n",
    "GAMMA = 0.1\n",
    "STEPS = 50\n",
    "\n",
    "#Training config\n",
    "EPOCH = 100\n",
    "\n",
    "LAMBDA = 0.1\n",
    "ALPHA = 0.9"
   ]
  },
  {
   "cell_type": "code",
   "execution_count": 3,
   "metadata": {},
   "outputs": [],
   "source": [
    "torch.cuda.manual_seed_all(SEED)\n",
    "torch.manual_seed(SEED)\n",
    "np.random.seed(SEED)\n",
    "torch.backends.cudnn.deterministic = True\n",
    "torch.backends.cudnn.benchmark = False"
   ]
  },
  {
   "cell_type": "code",
   "execution_count": 4,
   "metadata": {},
   "outputs": [
    {
     "name": "stdout",
     "output_type": "stream",
     "text": [
      "Dataset : MNIST\n",
      "set train data\n",
      "set test data\n"
     ]
    }
   ],
   "source": [
    "train_trans = transforms.Compose(\n",
    "    [\n",
    "        #transforms.RandomCrop(32, padding=4),\n",
    "        #transforms.RandomHorizontalFlip(),\n",
    "        transforms.ToTensor(),\n",
    "        #transforms.Normalize((0.485, 0.456, 0.406),\n",
    "        #                     (0.229, 0.224, 0.225)),\n",
    "    ],\n",
    ")\n",
    "test_trans = transforms.Compose(\n",
    "    [\n",
    "        transforms.ToTensor(),\n",
    "        #transforms.Normalize((0.485, 0.456, 0.406),\n",
    "        #                     (0.229, 0.224, 0.225)),\n",
    "    ],\n",
    ")\n",
    "instance_datasets = Datasets(\n",
    "    DATASET,\n",
    "    BATCH_SIZE,\n",
    "    NUM_WORKERS,\n",
    "    transform=train_trans,\n",
    "    test_transform=test_trans,\n",
    "    dataset_dir=DATASET_DIR,\n",
    ")\n",
    "data_sets = instance_datasets.create()\n",
    "\n",
    "trainloader = data_sets[0]\n",
    "testloader = data_sets[1]\n",
    "classes = data_sets[2]\n",
    "based_labels = data_sets[3]\n",
    "input_channels = data_sets[4]\n",
    "trainset = data_sets[5]\n",
    "testset = data_sets[6]"
   ]
  },
  {
   "cell_type": "code",
   "execution_count": 5,
   "metadata": {},
   "outputs": [],
   "source": [
    "model = Net(\n",
    "    input_channels=input_channels,\n",
    "    num_classes=len(classes),\n",
    ").to(device)\n",
    "\n",
    "optimizer = optim.SGD(\n",
    "    model.parameters(),\n",
    "    lr=LEARNING_RATE,\n",
    "    momentum=0.9,\n",
    "    weight_decay=WEIGHT_DECAY,\n",
    ")\n",
    "scheduler = optim.lr_scheduler.StepLR(\n",
    "    optimizer,\n",
    "    step_size=STEPS,\n",
    "    gamma=GAMMA,\n",
    ")\n",
    "\n",
    "criterion = nn.CrossEntropyLoss()\n",
    "discriminantloss = AdaptiveDiscriminantLoss(len(classes), ALPHA)\n",
    "\n",
    "cfdl = ClassifierDiscriminantLoss(\n",
    "    model,\n",
    "    optimizer,\n",
    "    criterion,\n",
    "    discriminantloss,\n",
    "    LAMBDA,\n",
    ")"
   ]
  },
  {
   "cell_type": "code",
   "execution_count": 6,
   "metadata": {
    "scrolled": true,
    "tags": []
   },
   "outputs": [
    {
     "name": "stdout",
     "output_type": "stream",
     "text": [
      "epoch:1\n"
     ]
    },
    {
     "name": "stderr",
     "output_type": "stream",
     "text": [
      "100%|████████████████████████████████████████████████████████████████████████████████| 600/600 [00:20<00:00, 29.13it/s]\n"
     ]
    },
    {
     "name": "stdout",
     "output_type": "stream",
     "text": [
      "Training data results-----------------------------\n"
     ]
    },
    {
     "name": "stderr",
     "output_type": "stream",
     "text": [
      "100%|████████████████████████████████████████████████████████████████████████████████| 600/600 [00:08<00:00, 70.35it/s]\n"
     ]
    },
    {
     "name": "stdout",
     "output_type": "stream",
     "text": [
      "mean_loss=0.3831464757025242, mean_cel_loss=0.08309177356927346, mean_center_loss=3.0005469650030134, acc=0.9751833333333333\n",
      "Test data results---------------------------------\n"
     ]
    },
    {
     "name": "stderr",
     "output_type": "stream",
     "text": [
      "100%|████████████████████████████████████████████████████████████████████████████████| 100/100 [00:02<00:00, 42.57it/s]\n"
     ]
    },
    {
     "name": "stdout",
     "output_type": "stream",
     "text": [
      "mean_loss=0.36373782113194464, mean_cel_loss=0.07630953419022263, mean_center_loss=2.874282789230347, acc=0.9756\n",
      "epoch:2\n"
     ]
    },
    {
     "name": "stderr",
     "output_type": "stream",
     "text": [
      "100%|████████████████████████████████████████████████████████████████████████████████| 600/600 [00:21<00:00, 27.88it/s]\n"
     ]
    },
    {
     "name": "stdout",
     "output_type": "stream",
     "text": [
      "Training data results-----------------------------\n"
     ]
    },
    {
     "name": "stderr",
     "output_type": "stream",
     "text": [
      "100%|████████████████████████████████████████████████████████████████████████████████| 600/600 [00:09<00:00, 65.95it/s]\n"
     ]
    },
    {
     "name": "stdout",
     "output_type": "stream",
     "text": [
      "mean_loss=0.2868236617992322, mean_cel_loss=0.04378864023912077, mean_center_loss=2.430350171327591, acc=0.9876333333333334\n",
      "Test data results---------------------------------\n"
     ]
    },
    {
     "name": "stderr",
     "output_type": "stream",
     "text": [
      "100%|████████████████████████████████████████████████████████████████████████████████| 100/100 [00:02<00:00, 42.10it/s]"
     ]
    },
    {
     "name": "stdout",
     "output_type": "stream",
     "text": [
      "mean_loss=0.2765100885927677, mean_cel_loss=0.04305669459223282, mean_center_loss=2.3345338988304136, acc=0.9879\n"
     ]
    },
    {
     "name": "stderr",
     "output_type": "stream",
     "text": [
      "\n"
     ]
    }
   ],
   "source": [
    "losses, cel_losses, discriminant_losses, accuracies = cfdl.fit(\n",
    "    EPOCH,\n",
    "    trainloader,\n",
    "    testloader,\n",
    "    scheduler=scheduler,\n",
    "    device=device,\n",
    ")"
   ]
  },
  {
   "cell_type": "code",
   "execution_count": 7,
   "metadata": {},
   "outputs": [
    {
     "data": {
      "image/png": "[encoded data removed]",
      "text/plain": [
       "<Figure size 432x432 with 1 Axes>"
      ]
     },
     "metadata": {
      "needs_background": "light"
     },
     "output_type": "display_data"
    },
    {
     "data": {
      "image/png": "[encoded data removed]",
      "text/plain": [
       "<Figure size 432x432 with 1 Axes>"
      ]
     },
     "metadata": {
      "needs_background": "light"
     },
     "output_type": "display_data"
    },
    {
     "data": {
      "image/png": "[encoded data removed]",
      "text/plain": [
       "<Figure size 432x432 with 1 Axes>"
      ]
     },
     "metadata": {
      "needs_background": "light"
     },
     "output_type": "display_data"
    },
    {
     "data": {
      "image/png": "[encoded data removed]",
      "text/plain": [
       "<Figure size 432x432 with 1 Axes>"
      ]
     },
     "metadata": {
      "needs_background": "light"
     },
     "output_type": "display_data"
    }
   ],
   "source": [
    "plot_graph(losses, 0.5, filename=\"loss\")\n",
    "plot_graph(cel_losses, 0.5, filename=\"cross entropy loss\")\n",
    "plot_graph(discriminant_losses, 2.0, filename=\"discriminant loss\")\n",
    "plot_graph(accuracies, 1, filename=\"accuracy\")"
   ]
  },
  {
   "cell_type": "code",
   "execution_count": 8,
   "metadata": {},
   "outputs": [],
   "source": [
    "info = {}\n",
    "info[\"DATASET\"] = DATASET\n",
    "info[\"Learnign_rate\"] = LEARNING_RATE\n",
    "info[\"Weight_decay\"] = WEIGHT_DECAY\n",
    "info[\"EPOCH\"] = EPOCH\n",
    "info[\"STEPS\"] = STEPS\n",
    "info[\"GAMMA\"] = GAMMA\n",
    "info[\"Model\"] = model\n",
    "info[\"Criterion\"] = criterion\n",
    "info[\"Optimizer\"] = optimizer\n",
    "info[\"train_loss\"] = losses[\"train\"][-1]\n",
    "info[\"test_loss\"] = losses[\"test\"][-1]\n",
    "info[\"train_cel_loss\"] = cel_losses[\"train\"][-1]\n",
    "info[\"test_cel_loss\"] = cel_losses[\"test\"][-1]\n",
    "info[\"train_discriminant_loss\"] = discriminant_losses[\"train\"][-1]\n",
    "info[\"test_discriminantr_loss\"] = discriminant_losses[\"test\"][-1]\n",
    "info[\"train_acc\"] = accuracies[\"train\"][-1]\n",
    "info[\"test_acc\"] = accuracies[\"test\"][-1]\n",
    "info[\"LAMBDA\"] = LAMBDA\n",
    "info[\"ALPHA\"] = ALPHA"
   ]
  },
  {
   "cell_type": "code",
   "execution_count": 9,
   "metadata": {},
   "outputs": [],
   "source": [
    "save_info(info, DATASET+\"_info\")"
   ]
  },
  {
   "cell_type": "code",
   "execution_count": 10,
   "metadata": {},
   "outputs": [],
   "source": [
    "torch.save(model.cpu().state_dict(), 'model_param.pth')\n",
    "torch.save(model.cpu(), 'model.pth')"
   ]
  },
  {
   "cell_type": "code",
   "execution_count": 11,
   "metadata": {},
   "outputs": [
    {
     "name": "stderr",
     "output_type": "stream",
     "text": [
      "100%|████████████████████████████████████████████████████████████████████████████████| 600/600 [00:08<00:00, 67.93it/s]\n",
      "100%|████████████████████████████████████████████████████████████████████████████████| 100/100 [00:02<00:00, 42.39it/s]\n"
     ]
    }
   ],
   "source": [
    "train_outputs = cfdl.getOutputs(trainloader, based_labels, device)\n",
    "test_outputs = cfdl.getOutputs(testloader, based_labels, device)"
   ]
  },
  {
   "cell_type": "code",
   "execution_count": 12,
   "metadata": {},
   "outputs": [],
   "source": [
    "train_outputs = dict_to_oneVSothers(train_outputs)\n",
    "test_outputs = dict_to_oneVSothers(test_outputs)"
   ]
  },
  {
   "cell_type": "code",
   "execution_count": 13,
   "metadata": {},
   "outputs": [
    {
     "data": {
      "image/png": "[encoded data removed]",
      "text/plain": [
       "<Figure size 432x432 with 1 Axes>"
      ]
     },
     "metadata": {
      "needs_background": "light"
     },
     "output_type": "display_data"
    },
    {
     "data": {
      "image/png": "[encoded data removed]",
      "text/plain": [
       "<Figure size 432x432 with 1 Axes>"
      ]
     },
     "metadata": {
      "needs_background": "light"
     },
     "output_type": "display_data"
    }
   ],
   "source": [
    "plot_histogram(train_outputs, filename=\"train_histogram\")\n",
    "plot_histogram(test_outputs, filename=\"test_histogram\")"
   ]
  },
  {
   "cell_type": "code",
   "execution_count": null,
   "metadata": {},
   "outputs": [],
   "source": []
  },
  {
   "cell_type": "code",
   "execution_count": null,
   "metadata": {},
   "outputs": [],
   "source": []
  },
  {
   "cell_type": "code",
   "execution_count": null,
   "metadata": {},
   "outputs": [],
   "source": []
  },
  {
   "cell_type": "code",
   "execution_count": null,
   "metadata": {},
   "outputs": [],
   "source": []
  },
  {
   "cell_type": "code",
   "execution_count": null,
   "metadata": {},
   "outputs": [],
   "source": []
  },
  {
   "cell_type": "code",
   "execution_count": null,
   "metadata": {},
   "outputs": [],
   "source": []
  },
  {
   "cell_type": "code",
   "execution_count": null,
   "metadata": {},
   "outputs": [],
   "source": []
  },
  {
   "cell_type": "code",
   "execution_count": null,
   "metadata": {},
   "outputs": [],
   "source": []
  },
  {
   "cell_type": "code",
   "execution_count": null,
   "metadata": {},
   "outputs": [],
   "source": []
  }
 ],
 "metadata": {
  "kernelspec": {
   "display_name": "Python 3.8.10 64-bit ('3.8.10')",
   "language": "python",
   "name": "python3"
  },
  "language_info": {
   "codemirror_mode": {
    "name": "ipython",
    "version": 3
   },
   "file_extension": ".py",
   "mimetype": "text/x-python",
   "name": "python",
   "nbconvert_exporter": "python",
   "pygments_lexer": "ipython3",
   "version": "3.8.10"
  },
  "vscode": {
   "interpreter": {
    "hash": "ddb05a391e2aaea93a9a03aeff717827e2d2293fb8daf1caae477e16e69f5778"
   }
  }
 },
 "nbformat": 4,
 "nbformat_minor": 4
}
